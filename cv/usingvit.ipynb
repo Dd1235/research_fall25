{
 "cells": [
  {
   "cell_type": "markdown",
   "id": "742b40c7",
   "metadata": {},
   "source": [
    "Reviewing syntax of using it since it has been over 3 months since I have written code for computer vision"
   ]
  }
 ],
 "metadata": {
  "language_info": {
   "name": "python"
  }
 },
 "nbformat": 4,
 "nbformat_minor": 5
}
